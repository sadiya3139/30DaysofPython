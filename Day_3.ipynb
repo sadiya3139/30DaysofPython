{
 "cells": [
  {
   "cell_type": "markdown",
   "metadata": {},
   "source": [
    "### EXERCISES\n"
   ]
  },
  {
   "cell_type": "markdown",
   "metadata": {},
   "source": [
    "#### Quetion 1:Declare your age as integer variable\n"
   ]
  },
  {
   "cell_type": "code",
   "execution_count": null,
   "metadata": {},
   "outputs": [],
   "source": [
    "Age = int(27)\n",
    "print(\"my age is:\",Age)\n"
   ]
  },
  {
   "cell_type": "markdown",
   "metadata": {},
   "source": [
    "#### Question 2:Declare your height as a float variable"
   ]
  },
  {
   "cell_type": "code",
   "execution_count": 3,
   "metadata": {},
   "outputs": [
    {
     "name": "stdout",
     "output_type": "stream",
     "text": [
      "my hieght i: 58.0\n"
     ]
    }
   ],
   "source": [
    "Height =float(58)\n",
    "print(\"my hieght i:\",Height)"
   ]
  },
  {
   "cell_type": "markdown",
   "metadata": {},
   "source": [
    "#### Quetion 3: Declare a variable that store a complex number"
   ]
  },
  {
   "cell_type": "code",
   "execution_count": null,
   "metadata": {},
   "outputs": [],
   "source": [
    "eqution_1 =complex( 3 +4-3**2)\n",
    "print(eqution_1)"
   ]
  },
  {
   "cell_type": "markdown",
   "metadata": {},
   "source": [
    "#### Question 4: Write a script that prompts the user to enter base and height of the triangle and calculate an area of this triangle (area = 0.5 x b x h)."
   ]
  },
  {
   "cell_type": "code",
   "execution_count": 6,
   "metadata": {},
   "outputs": [
    {
     "name": "stdout",
     "output_type": "stream",
     "text": [
      "the base is : 43\n",
      "the height is : 23\n",
      "The Area of Triangle is : 494.5\n"
     ]
    }
   ],
   "source": [
    "base =int(input(\"enter the base of the triangle:\"))\n",
    "hieght = int(input(\"enter the hieght of the tringle:\"))\n",
    "Area_triangle = float(0.5* base*hieght)\n",
    "print(\"the base is :\",base)\n",
    "print(\"the height is :\",hieght)\n",
    "print(\"The Area of Triangle is :\",Area_triangle)"
   ]
  },
  {
   "cell_type": "markdown",
   "metadata": {},
   "source": [
    "#### Question 5: Write a script that prompts the user to enter side a, side b, and side c of the triangle. Calculate the perimeter of the triangle (perimeter = a + b + c)."
   ]
  },
  {
   "cell_type": "code",
   "execution_count": 5,
   "metadata": {},
   "outputs": [
    {
     "name": "stdout",
     "output_type": "stream",
     "text": [
      "The fisrt side is: 344\n",
      "The second side is: 34\n",
      "The third side is: 23\n",
      "The parameter is : 401\n"
     ]
    }
   ],
   "source": [
    "side_a=int(input(\"Enter the fisst side:\"))\n",
    "side_b=int(input(\"Enter the second side:\"))\n",
    "side_c=int(input(\"Enter the third side:\"))\n",
    "parameter =side_a + side_b + side_c\n",
    "print(\"The fisrt side is:\",side_a)\n",
    "print(\"The second side is:\",side_b)\n",
    "print(\"The third side is:\",side_c)\n",
    "print(\"The parameter is :\",parameter)"
   ]
  },
  {
   "cell_type": "markdown",
   "metadata": {},
   "source": [
    "#### Question 6: Get length and width of a rectangle using prompt. Calculate its area (area = length x width) and perimeter (perimeter = 2 x (length + width))"
   ]
  },
  {
   "cell_type": "code",
   "execution_count": 9,
   "metadata": {},
   "outputs": [
    {
     "name": "stdout",
     "output_type": "stream",
     "text": [
      "the length is : 34\n",
      "the width IS :2\n",
      "The Area is :68\n",
      "The parameter is : 72\n"
     ]
    }
   ],
   "source": [
    "length =int(input(\"Enter the length of the rectangle:\"))\n",
    "width =int(input(\"Enter the width of the rectangle :\"))\n",
    "print(\"the length is :\",length)\n",
    "print(F\"the width IS :{width}\")\n",
    "Area= length *width\n",
    "parameter =2* (length + width)\n",
    "print(F\"The Area is :{Area}\")\n",
    "print(\"The parameter is :\",parameter)"
   ]
  },
  {
   "cell_type": "markdown",
   "metadata": {},
   "source": [
    "#### Quetion 7:Get radius of a circle using prompt. Calculate the area (area = pi x r x r) and circumference (c = 2 x pi x r) where pi = 3.14."
   ]
  },
  {
   "cell_type": "code",
   "execution_count": 11,
   "metadata": {},
   "outputs": [
    {
     "name": "stdout",
     "output_type": "stream",
     "text": [
      "The radius is 43.0\n",
      "The area of the circle is 5805.860000000001\n",
      "the circumference of the circle is270.04\n"
     ]
    }
   ],
   "source": [
    "r=float(input(\"Enter the Radius of the circle:\"))\n",
    "pi =3.14\n",
    "area =pi * r * r\n",
    "c=2 * pi *r\n",
    "print(F\"The radius is {r}\")\n",
    "print(F\"The area of the circle is {area}\")\n",
    "print(F\"the circumference of the circle is{c}\")\n",
    "\n"
   ]
  },
  {
   "cell_type": "code",
   "execution_count": null,
   "metadata": {},
   "outputs": [],
   "source": []
  }
 ],
 "metadata": {
  "kernelspec": {
   "display_name": "Python 3",
   "language": "python",
   "name": "python3"
  },
  "language_info": {
   "codemirror_mode": {
    "name": "ipython",
    "version": 3
   },
   "file_extension": ".py",
   "mimetype": "text/x-python",
   "name": "python",
   "nbconvert_exporter": "python",
   "pygments_lexer": "ipython3",
   "version": "3.12.0"
  }
 },
 "nbformat": 4,
 "nbformat_minor": 2
}
