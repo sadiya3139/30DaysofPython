{
 "cells": [
  {
   "cell_type": "markdown",
   "metadata": {},
   "source": [
    "### LEVEL One (VARIABLES)"
   ]
  },
  {
   "cell_type": "code",
   "execution_count": null,
   "metadata": {},
   "outputs": [],
   "source": [
    "FIRST_NAME=\"SADIYA\";\n",
    "LAST_NAME=\"MUAMMAD RABIU\";\n",
    "FULL_NAME=\"SADIYA MUHAMMAD RABIU\";\n",
    "COUNTRY=\"NIGERIA\";\n",
    "city=\"Kano\";\n",
    "Age=27;\n",
    "Year=2024;\n",
    "is_married=TRUE;\n",
    "is_light=\"blue\";\n",
    "personal_info={FULL_NAME:\"SADIYA MUHAMMAD RABIU\", COUNTRY:\"NIGERIA\",city:\"Kano\",Age:27}\n",
    "NAME,AGE,GENDER =\"SADIYA\",27,'FEMALE';\n",
    "print(\"FIRST_NAME:\",FIRST_NAME);\n",
    "print(\"LAST_NAME:\",LAST_NAME);\n",
    "print(\"FULL-NAME:\",FULL_NAME);\n",
    "print(\"country:\",COUNTRY);\n",
    "print(\"city:\",city);\n",
    "print(\"Age:\",Age);\n",
    "print(\"YEAR:\",Year);\n",
    "print(\"is_married:\",is_married);\n",
    "print(\"is_light:\",is_light);\n",
    "print(\"personal_info:\",personal_info);\n",
    "\n"
   ]
  },
  {
   "cell_type": "code",
   "execution_count": 23,
   "metadata": {},
   "outputs": [
    {
     "ename": "SyntaxError",
     "evalue": "invalid syntax (3854071512.py, line 27)",
     "output_type": "error",
     "traceback": [
      "\u001b[1;36m  Cell \u001b[1;32mIn[23], line 27\u001b[1;36m\u001b[0m\n\u001b[1;33m    AREA_CIRCLE=\u001b[0m\n\u001b[1;37m                ^\u001b[0m\n\u001b[1;31mSyntaxError\u001b[0m\u001b[1;31m:\u001b[0m invalid syntax\n"
     ]
    }
   ],
   "source": [
    "### LEVEL 2\n",
    "\n",
    "print(type('sadiya'))\n",
    "print(type(\"MUHAMMAD RABIU\"))\n",
    "print(type(27))\n",
    "print(type(\"Kano\"))\n",
    "print(type(\"MUHAMMAD RABIU\"))\n",
    "print(type(TRUE))\n",
    "print(type({FULL_NAME:\"SADIYA MUHAMMAD RABIU\", COUNTRY:\"NIGERIA\",city:\"Kano\",Age:27}))\n",
    "\n",
    "print(\"FIRST_NAME LENGTH:\",len(FIRST_NAME));\n",
    "print(\"LAST_NAME LENGTH:\",len(LAST_NAME));\n",
    "\n",
    "      \n",
    "NUM1=5;\n",
    "NUM2=4;\n",
    "TOTAL=NUM1 + NUM2;\n",
    "DIFF=NUM2-NUM1;\n",
    "PRODUCT=NUM1*NUM2;\n",
    "DIVISION=NUM1/NUM2;\n",
    "MODULO=NUM2%NUM1;\n",
    "POWER=POW(NUM1,NUM2);\n",
    "FLOOR=NUM1//NUM2;\n",
    "RADIUS=30;\n",
    "N=22/7;\n",
    "\n",
    "AREA_CIRCLE=\n",
    "Use the built-in input function to get first name, last name, country and age from a user and store the value to their corresponding variable names\n",
    "Run help('keywords') in Python shell or in your file to check for the Python reserved words or keywords"
   ]
  }
 ],
 "metadata": {
  "kernelspec": {
   "display_name": "base",
   "language": "python",
   "name": "python3"
  },
  "language_info": {
   "codemirror_mode": {
    "name": "ipython",
    "version": 3
   },
   "file_extension": ".py",
   "mimetype": "text/x-python",
   "name": "python",
   "nbconvert_exporter": "python",
   "pygments_lexer": "ipython3",
   "version": "3.11.5"
  }
 },
 "nbformat": 4,
 "nbformat_minor": 2
}
