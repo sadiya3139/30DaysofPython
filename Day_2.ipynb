{
 "cells": [
  {
   "cell_type": "markdown",
   "metadata": {},
   "source": [
    "### LEVEL One (VARIABLES)"
   ]
  },
  {
   "cell_type": "code",
   "execution_count": 2,
   "metadata": {},
   "outputs": [
    {
     "name": "stdout",
     "output_type": "stream",
     "text": [
      "FIRST_NAME: SADIYA\n",
      "LAST_NAME: MUAMMAD RABIU\n",
      "FULL-NAME: SADIYA MUHAMMAD RABIU\n",
      "country: NIGERIA\n",
      "city: Kano\n",
      "Age: 27\n",
      "YEAR: 2024\n",
      "is_married: True\n",
      "is_light: blue\n",
      "personal_info: {'SADIYA MUHAMMAD RABIU': 'SADIYA MUHAMMAD RABIU', 'NIGERIA': 'NIGERIA', 'Kano': 'Kano', 27: 27}\n"
     ]
    }
   ],
   "source": [
    "FIRST_NAME=\"SADIYA\"\n",
    "LAST_NAME=\"MUAMMAD RABIU\"\n",
    "FULL_NAME=\"SADIYA MUHAMMAD RABIU\"\n",
    "COUNTRY=\"NIGERIA\"\n",
    "city=\"Kano\"\n",
    "Age=27\n",
    "Year=2024\n",
    "is_married= True\n",
    "is_light=\"blue\"\n",
    "personal_info={FULL_NAME:\"SADIYA MUHAMMAD RABIU\", COUNTRY:\"NIGERIA\",city:\"Kano\",Age:27}\n",
    "NAME,AGE,GENDER =\"SADIYA\",27,'FEMALE'\n",
    "print(\"FIRST_NAME:\",FIRST_NAME)\n",
    "print(\"LAST_NAME:\",LAST_NAME)\n",
    "print(\"FULL-NAME:\",FULL_NAME)\n",
    "print(\"country:\",COUNTRY)\n",
    "print(\"city:\",city)\n",
    "print(\"Age:\",Age)\n",
    "print(\"YEAR:\",Year)\n",
    "print(\"is_married:\",is_married)\n",
    "print(\"is_light:\",is_light)\n",
    "print(\"personal_info:\",personal_info)\n",
    "\n"
   ]
  },
  {
   "cell_type": "markdown",
   "metadata": {},
   "source": [
    "## Level 2"
   ]
  },
  {
   "cell_type": "markdown",
   "metadata": {},
   "source": [
    "### 1. Check the data type of all your variables using type() built-in function"
   ]
  },
  {
   "cell_type": "code",
   "execution_count": 3,
   "metadata": {},
   "outputs": [
    {
     "name": "stdout",
     "output_type": "stream",
     "text": [
      "<class 'str'>\n",
      "<class 'str'>\n",
      "<class 'int'>\n",
      "<class 'str'>\n",
      "<class 'str'>\n",
      "<class 'bool'>\n"
     ]
    }
   ],
   "source": [
    "print(type('sadiya'))\n",
    "print(type(\"MUHAMMAD RABIU\"))\n",
    "print(type(27))\n",
    "print(type(\"Kano\"))\n",
    "print(type(\"MUHAMMAD RABIU\"))\n",
    "print(type(True))"
   ]
  },
  {
   "cell_type": "markdown",
   "metadata": {},
   "source": [
    "### 2. Using the len() built-in function, find the length of your first name"
   ]
  },
  {
   "cell_type": "code",
   "execution_count": 5,
   "metadata": {},
   "outputs": [
    {
     "name": "stdout",
     "output_type": "stream",
     "text": [
      "The length of first name is: 6\n"
     ]
    }
   ],
   "source": [
    "name_len = len(FIRST_NAME)\n",
    "print(F\"The length of first name is: {name_len}\")"
   ]
  },
  {
   "cell_type": "code",
   "execution_count": null,
   "metadata": {},
   "outputs": [],
   "source": [
    "### level 2\n",
    "\n",
    "\n",
    "\n",
    "print(type({FULL_NAME:\"SADIYA MUHAMMAD RABIU\", COUNTRY:\"NIGERIA\",city:\"Kano\",Age:27}))\n",
    "\n",
    "\n",
    "print(\"LAST_NAME LENGTH:/n\",len(LAST_NAME))\n",
    "\n",
    "   ### level 3   \n",
    "NUM1=5\n",
    "NUM2=4\n",
    "\n",
    "TOTAL=NUM1 + NUM2\n",
    "\n",
    "DIFF=NUM2-NUM1\n",
    "\n",
    "PRODUCT=NUM1*NUM2\n",
    "\n",
    "DIVISION=NUM1 / NUM2\n",
    "\n",
    "MODULO=NUM2%NUM1\n",
    "\n",
    "POWER=pow(NUM1,NUM2)\n",
    "\n",
    "FLOOR=NUM1//NUM2\n",
    "\n",
    "RADIUS=30\n",
    "\n",
    "N=22/7\n",
    "\n",
    "rd=RADIUS**2\n",
    "\n",
    "AREA_CIRCLE=N*rd\n",
    "\n",
    "print(\"TOTAL:\",TOTAL)\n",
    "print(\"DIFF:\",DIFF)\n",
    "print(\"PRODUCT:\",PRODUCT)\n",
    "print(\"DIVISION:\",DIVISION)\n",
    "print(\"MODULO:\",MODULO)\n",
    "print(\"POWER:\",POWER)\n",
    "print(\"FLOOR:\",FLOOR)\n",
    "print(\"The Area:\",AREA_CIRCLE)"
   ]
  },
  {
   "cell_type": "code",
   "execution_count": null,
   "metadata": {},
   "outputs": [],
   "source": []
  }
 ],
 "metadata": {
  "kernelspec": {
   "display_name": "base",
   "language": "python",
   "name": "python3"
  },
  "language_info": {
   "codemirror_mode": {
    "name": "ipython",
    "version": 3
   },
   "file_extension": ".py",
   "mimetype": "text/x-python",
   "name": "python",
   "nbconvert_exporter": "python",
   "pygments_lexer": "ipython3",
   "version": "3.11.5"
  }
 },
 "nbformat": 4,
 "nbformat_minor": 2
}
